{
 "cells": [
  {
   "cell_type": "markdown",
   "id": "9d4f5d66",
   "metadata": {
    "language_info": {
     "name": "polyglot-notebook"
    },
    "polyglot_notebook": {
     "kernelName": "csharp"
    }
   },
   "source": []
  },
  {
   "cell_type": "markdown",
   "id": "217f30da",
   "metadata": {},
   "source": [
    "# various pyhton scripts"
   ]
  },
  {
   "cell_type": "markdown",
   "id": "1042755e",
   "metadata": {
    "notebookRunGroups": {
     "groupValue": "1"
    }
   },
   "source": [
    "## read environment variable"
   ]
  },
  {
   "cell_type": "code",
   "execution_count": null,
   "id": "c7ca0181",
   "metadata": {
    "language_info": {
     "name": "polyglot-notebook"
    },
    "polyglot_notebook": {
     "kernelName": "value"
    }
   },
   "outputs": [
    {
     "name": "stdout",
     "output_type": "stream",
     "text": [
      "SharedCertPassword123!\n"
     ]
    }
   ],
   "source": [
    "import os\n",
    "\n",
    "env_var_name = \"MY_ENV_VAR\"\n",
    "value = os.getenv(env_var_name)\n",
    "\n",
    "print(value)"
   ]
  },
  {
   "cell_type": "markdown",
   "id": "ad17b7a5",
   "metadata": {},
   "source": [
    "## write environment variable\n",
    "\n",
    "to write system environment variable, it requires **admin privileges** on Windows. so it will not work in the notebook."
   ]
  },
  {
   "cell_type": "code",
   "execution_count": 5,
   "id": "a4b4d830",
   "metadata": {},
   "outputs": [
    {
     "name": "stdout",
     "output_type": "stream",
     "text": [
      "Set Windows system variable (requires admin privileges) MY_ENV_VAR = my_value\n"
     ]
    }
   ],
   "source": [
    "import os\n",
    "import platform\n",
    "import subprocess\n",
    "\n",
    "env_var_name = \"MY_ENV_VAR\"\n",
    "value = \"my_value\"\n",
    "\n",
    "def set_env_windows(name, val):\n",
    "    # User variable\n",
    "    subprocess.run([\"setx\", name, val, \"/M\"])\n",
    "    print(f\"Set Windows system variable (requires admin privileges) {name} = {val}\")\n",
    "    # For user variable (does not require admin privileges), uncomment:\n",
    "    # subprocess.run([\"setx\", name, val])\n",
    "    # print(f\"Set Windows user variable {name} = {val}\")\n",
    "\n",
    "def set_env_linux(name, val):\n",
    "    bashrc_path = os.path.expanduser(\"~/.bashrc\")\n",
    "    export_line = f'\\nexport {name}=\"{val}\"\\n'\n",
    "    with open(bashrc_path, \"a\") as f:\n",
    "        f.write(export_line)\n",
    "    print(f'Appended to {bashrc_path}: {export_line.strip()}')\n",
    "    print('Run `source ~/.bashrc` or restart your terminal to apply changes.')\n",
    "\n",
    "if platform.system() == \"Windows\":\n",
    "    set_env_windows(env_var_name, value)\n",
    "else:\n",
    "    set_env_linux(env_var_name, value)\n"
   ]
  },
  {
   "cell_type": "markdown",
   "id": "6ac34fb2",
   "metadata": {},
   "source": [
    "## check port availability"
   ]
  },
  {
   "cell_type": "code",
   "execution_count": null,
   "id": "c7ff8517",
   "metadata": {},
   "outputs": [
    {
     "name": "stdout",
     "output_type": "stream",
     "text": [
      "Port 3001 is free\n"
     ]
    }
   ],
   "source": [
    "import socket\n",
    "\n",
    "def is_port_in_use(port, host='127.0.0.1'):\n",
    "    with socket.socket(socket.AF_INET, socket.SOCK_STREAM) as s:\n",
    "        return s.connect_ex((host, port)) == 0\n",
    "    \n",
    "# Usage Example:\n",
    "port = 3000\n",
    "if is_port_in_use(port):\n",
    "    print(f\"Port {port} is in use\")\n",
    "else:\n",
    "    print(f\"Port {port} is free\")"
   ]
  }
 ],
 "metadata": {
  "kernelspec": {
   "display_name": "Python 3",
   "language": "python",
   "name": "python3"
  },
  "language_info": {
   "codemirror_mode": {
    "name": "ipython",
    "version": 3
   },
   "file_extension": ".py",
   "mimetype": "text/x-python",
   "name": "python",
   "nbconvert_exporter": "python",
   "pygments_lexer": "ipython3",
   "version": "3.13.7"
  },
  "polyglot_notebook": {
   "kernelInfo": {
    "defaultKernelName": "csharp",
    "items": [
     {
      "aliases": [],
      "languageName": "csharp",
      "name": "csharp"
     }
    ]
   }
  }
 },
 "nbformat": 4,
 "nbformat_minor": 5
}
